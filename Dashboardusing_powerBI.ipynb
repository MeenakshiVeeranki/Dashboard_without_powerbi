{
  "nbformat": 4,
  "nbformat_minor": 0,
  "metadata": {
    "colab": {
      "provenance": [],
      "authorship_tag": "ABX9TyOGr8wGtoW9QM5OQA1c6TjN",
      "include_colab_link": true
    },
    "kernelspec": {
      "name": "python3",
      "display_name": "Python 3"
    },
    "language_info": {
      "name": "python"
    }
  },
  "cells": [
    {
      "cell_type": "markdown",
      "metadata": {
        "id": "view-in-github",
        "colab_type": "text"
      },
      "source": [
        "<a href=\"https://colab.research.google.com/github/MeenakshiVeeranki/Dashboard_without_powerbi/blob/main/Dashboardusing_powerBI.ipynb\" target=\"_parent\"><img src=\"https://colab.research.google.com/assets/colab-badge.svg\" alt=\"Open In Colab\"/></a>"
      ]
    },
    {
      "cell_type": "code",
      "execution_count": 1,
      "metadata": {
        "colab": {
          "base_uri": "https://localhost:8080/"
        },
        "id": "_9ZOQaXX35bR",
        "outputId": "e51d7d0d-928a-4410-e1de-2f199bd432db"
      },
      "outputs": [
        {
          "output_type": "stream",
          "name": "stdout",
          "text": [
            "Requirement already satisfied: pandas in /usr/local/lib/python3.10/dist-packages (2.1.4)\n",
            "Collecting dash\n",
            "  Downloading dash-2.18.0-py3-none-any.whl.metadata (10 kB)\n",
            "Requirement already satisfied: plotly in /usr/local/lib/python3.10/dist-packages (5.15.0)\n",
            "Requirement already satisfied: numpy<2,>=1.22.4 in /usr/local/lib/python3.10/dist-packages (from pandas) (1.26.4)\n",
            "Requirement already satisfied: python-dateutil>=2.8.2 in /usr/local/lib/python3.10/dist-packages (from pandas) (2.8.2)\n",
            "Requirement already satisfied: pytz>=2020.1 in /usr/local/lib/python3.10/dist-packages (from pandas) (2024.1)\n",
            "Requirement already satisfied: tzdata>=2022.1 in /usr/local/lib/python3.10/dist-packages (from pandas) (2024.1)\n",
            "Requirement already satisfied: Flask<3.1,>=1.0.4 in /usr/local/lib/python3.10/dist-packages (from dash) (2.2.5)\n",
            "Requirement already satisfied: Werkzeug<3.1 in /usr/local/lib/python3.10/dist-packages (from dash) (3.0.4)\n",
            "Collecting dash-html-components==2.0.0 (from dash)\n",
            "  Downloading dash_html_components-2.0.0-py3-none-any.whl.metadata (3.8 kB)\n",
            "Collecting dash-core-components==2.0.0 (from dash)\n",
            "  Downloading dash_core_components-2.0.0-py3-none-any.whl.metadata (2.9 kB)\n",
            "Collecting dash-table==5.0.0 (from dash)\n",
            "  Downloading dash_table-5.0.0-py3-none-any.whl.metadata (2.4 kB)\n",
            "Requirement already satisfied: importlib-metadata in /usr/local/lib/python3.10/dist-packages (from dash) (8.4.0)\n",
            "Requirement already satisfied: typing-extensions>=4.1.1 in /usr/local/lib/python3.10/dist-packages (from dash) (4.12.2)\n",
            "Requirement already satisfied: requests in /usr/local/lib/python3.10/dist-packages (from dash) (2.32.3)\n",
            "Collecting retrying (from dash)\n",
            "  Downloading retrying-1.3.4-py3-none-any.whl.metadata (6.9 kB)\n",
            "Requirement already satisfied: nest-asyncio in /usr/local/lib/python3.10/dist-packages (from dash) (1.6.0)\n",
            "Requirement already satisfied: setuptools in /usr/local/lib/python3.10/dist-packages (from dash) (71.0.4)\n",
            "Requirement already satisfied: tenacity>=6.2.0 in /usr/local/lib/python3.10/dist-packages (from plotly) (9.0.0)\n",
            "Requirement already satisfied: packaging in /usr/local/lib/python3.10/dist-packages (from plotly) (24.1)\n",
            "Requirement already satisfied: Jinja2>=3.0 in /usr/local/lib/python3.10/dist-packages (from Flask<3.1,>=1.0.4->dash) (3.1.4)\n",
            "Requirement already satisfied: itsdangerous>=2.0 in /usr/local/lib/python3.10/dist-packages (from Flask<3.1,>=1.0.4->dash) (2.2.0)\n",
            "Requirement already satisfied: click>=8.0 in /usr/local/lib/python3.10/dist-packages (from Flask<3.1,>=1.0.4->dash) (8.1.7)\n",
            "Requirement already satisfied: six>=1.5 in /usr/local/lib/python3.10/dist-packages (from python-dateutil>=2.8.2->pandas) (1.16.0)\n",
            "Requirement already satisfied: MarkupSafe>=2.1.1 in /usr/local/lib/python3.10/dist-packages (from Werkzeug<3.1->dash) (2.1.5)\n",
            "Requirement already satisfied: zipp>=0.5 in /usr/local/lib/python3.10/dist-packages (from importlib-metadata->dash) (3.20.1)\n",
            "Requirement already satisfied: charset-normalizer<4,>=2 in /usr/local/lib/python3.10/dist-packages (from requests->dash) (3.3.2)\n",
            "Requirement already satisfied: idna<4,>=2.5 in /usr/local/lib/python3.10/dist-packages (from requests->dash) (3.8)\n",
            "Requirement already satisfied: urllib3<3,>=1.21.1 in /usr/local/lib/python3.10/dist-packages (from requests->dash) (2.0.7)\n",
            "Requirement already satisfied: certifi>=2017.4.17 in /usr/local/lib/python3.10/dist-packages (from requests->dash) (2024.8.30)\n",
            "Downloading dash-2.18.0-py3-none-any.whl (7.5 MB)\n",
            "\u001b[2K   \u001b[90m━━━━━━━━━━━━━━━━━━━━━━━━━━━━━━━━━━━━━━━━\u001b[0m \u001b[32m7.5/7.5 MB\u001b[0m \u001b[31m38.1 MB/s\u001b[0m eta \u001b[36m0:00:00\u001b[0m\n",
            "\u001b[?25hDownloading dash_core_components-2.0.0-py3-none-any.whl (3.8 kB)\n",
            "Downloading dash_html_components-2.0.0-py3-none-any.whl (4.1 kB)\n",
            "Downloading dash_table-5.0.0-py3-none-any.whl (3.9 kB)\n",
            "Downloading retrying-1.3.4-py3-none-any.whl (11 kB)\n",
            "Installing collected packages: dash-table, dash-html-components, dash-core-components, retrying, dash\n",
            "Successfully installed dash-2.18.0 dash-core-components-2.0.0 dash-html-components-2.0.0 dash-table-5.0.0 retrying-1.3.4\n"
          ]
        }
      ],
      "source": [
        "pip install pandas dash plotly\n"
      ]
    },
    {
      "cell_type": "code",
      "source": [
        "import dash\n",
        "from dash import dcc, html\n",
        "from dash.dependencies import Input, Output\n",
        "import plotly.express as px\n",
        "import pandas as pd\n",
        "\n",
        "\n",
        "df = pd.DataFrame({\n",
        "    'Category': ['A', 'A', 'B', 'B', 'C', 'C'],\n",
        "    'Subcategory': ['X', 'Y', 'X', 'Y', 'X', 'Y'],\n",
        "    'Values': [100, 150, 200, 250, 300, 350],\n",
        "    'Date': pd.date_range('2021-01-01', periods=6, freq='M')\n",
        "})\n",
        "\n",
        "\n",
        "app = dash.Dash(__name__)\n",
        "\n",
        "\n",
        "app.layout = html.Div([\n",
        "    html.H1(\"Interactive Dashboard\", style={'text-align': 'center'}),\n",
        "\n",
        "\n",
        "    dcc.DatePickerRange(\n",
        "        id='date-picker-range',\n",
        "        start_date=df['Date'].min(),\n",
        "        end_date=df['Date'].max(),\n",
        "        display_format='YYYY-MM-DD'\n",
        "    ),\n",
        "\n",
        "\n",
        "    dcc.Dropdown(\n",
        "        id='category-dropdown',\n",
        "        options=[{'label': c, 'value': c} for c in df['Category'].unique()],\n",
        "        value='A',\n",
        "        multi=False,\n",
        "        style={'width': '50%'}\n",
        "    ),\n",
        "    dcc.Graph(id='bar-chart'),\n",
        "    dcc.Graph(id='line-chart'),\n",
        "    dcc.Graph(id='pie-chart'),\n",
        "\n",
        "])\n",
        "@app.callback(\n",
        "    Output('bar-chart', 'figure'),\n",
        "    [Input('category-dropdown', 'value'),\n",
        "     Input('date-picker-range', 'start_date'),\n",
        "     Input('date-picker-range', 'end_date')]\n",
        ")\n",
        "def update_bar_chart(selected_category, start_date, end_date):\n",
        "    filtered_df = df[(df['Category'] == selected_category) &\n",
        "                     (df['Date'] >= start_date) &\n",
        "                     (df['Date'] <= end_date)]\n",
        "    fig = px.bar(filtered_df, x='Subcategory', y='Values', color='Subcategory',\n",
        "                 title=f\"Bar Chart for Category {selected_category}\",\n",
        "                 labels={'Subcategory': 'Subcategory', 'Values': 'Values'})\n",
        "    return fig\n",
        "@app.callback(\n",
        "    Output('line-chart', 'figure'),\n",
        "    [Input('category-dropdown', 'value'),\n",
        "     Input('date-picker-range', 'start_date'),\n",
        "     Input('date-picker-range', 'end_date')]\n",
        ")\n",
        "def update_line_chart(selected_category, start_date, end_date):\n",
        "    filtered_df = df[(df['Category'] == selected_category) &\n",
        "                     (df['Date'] >= start_date) &\n",
        "                     (df['Date'] <= end_date)]\n",
        "    fig = px.line(filtered_df, x='Date', y='Values', color='Subcategory',\n",
        "                  title=f\"Line Chart for Category {selected_category}\",\n",
        "                  labels={'Date': 'Date', 'Values': 'Values'})\n",
        "    return fig\n",
        "@app.callback(\n",
        "    Output('pie-chart', 'figure'),\n",
        "    [Input('category-dropdown', 'value')]\n",
        ")\n",
        "def update_pie_chart(selected_category):\n",
        "\n",
        "    filtered_df = df[df['Category'] == selected_category]\n",
        "\n",
        "\n",
        "    fig = px.pie(filtered_df, names='Subcategory', values='Values',\n",
        "                 title=f\"Pie Chart for Category {selected_category}\")\n",
        "    return fig\n",
        "\n",
        "\n",
        "if __name__ == '__main__':\n",
        "    app.run_server(debug=True)\n"
      ],
      "metadata": {
        "colab": {
          "base_uri": "https://localhost:8080/",
          "height": 671
        },
        "id": "SdY7hHLz4JPq",
        "outputId": "43fd39f9-b2b5-4d24-921f-fe9d3841ff63"
      },
      "execution_count": 2,
      "outputs": [
        {
          "output_type": "display_data",
          "data": {
            "text/plain": [
              "<IPython.core.display.Javascript object>"
            ],
            "application/javascript": [
              "(async (port, path, width, height, cache, element) => {\n",
              "    if (!google.colab.kernel.accessAllowed && !cache) {\n",
              "      return;\n",
              "    }\n",
              "    element.appendChild(document.createTextNode(''));\n",
              "    const url = await google.colab.kernel.proxyPort(port, {cache});\n",
              "    const iframe = document.createElement('iframe');\n",
              "    iframe.src = new URL(path, url).toString();\n",
              "    iframe.height = height;\n",
              "    iframe.width = width;\n",
              "    iframe.style.border = 0;\n",
              "    iframe.allow = [\n",
              "        'accelerometer',\n",
              "        'autoplay',\n",
              "        'camera',\n",
              "        'clipboard-read',\n",
              "        'clipboard-write',\n",
              "        'gyroscope',\n",
              "        'magnetometer',\n",
              "        'microphone',\n",
              "        'serial',\n",
              "        'usb',\n",
              "        'xr-spatial-tracking',\n",
              "    ].join('; ');\n",
              "    element.appendChild(iframe);\n",
              "  })(8050, \"/\", \"100%\", 650, false, window.element)"
            ]
          },
          "metadata": {}
        }
      ]
    }
  ]
}